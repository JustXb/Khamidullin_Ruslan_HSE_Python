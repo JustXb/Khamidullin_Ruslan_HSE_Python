{
 "cells": [
  {
   "cell_type": "code",
   "execution_count": 15,
   "id": "5799cabc",
   "metadata": {},
   "outputs": [
    {
     "name": "stdout",
     "output_type": "stream",
     "text": [
      "'1840e0b9d4': 'Продукты'\n",
      "'4e4f90fcfb': 'Электроника'\n"
     ]
    }
   ],
   "source": [
    "import json\n",
    "\n",
    "purchases = {}\n",
    "\n",
    "with open('purchase_log.txt') as file:\n",
    "    for line in file:\n",
    "        if '\"user_id\": \"user_id\"' in line:\n",
    "            continue\n",
    "        \n",
    "        data = json.loads(line.strip())\n",
    "        user_id = data['user_id']\n",
    "        category = data['category']\n",
    "        purchases[user_id] = category\n",
    "\n",
    "items = list(purchases.items())\n",
    "print(f\"'{items[0][0]}': '{items[0][1]}'\")\n",
    "print(f\"'{items[1][0]}': '{items[1][1]}'\")"
   ]
  },
  {
   "cell_type": "code",
   "execution_count": null,
   "id": "275aa4d4",
   "metadata": {},
   "outputs": [
    {
     "name": "stdout",
     "output_type": "stream",
     "text": [
      "user_id,source,category\n",
      "1840e0b9d4,other,Продукты\n",
      "4e4f90fcfb,context,Электроника\n"
     ]
    }
   ],
   "source": [
    "import csv\n",
    "\n",
    "with open('funnel.csv', 'w') as funnel:\n",
    "    file = csv.writer(funnel)\n",
    "    file.writerow(['user_id', 'source', 'category'])\n",
    "    with open('visit_log (2).csv', 'r') as visits:\n",
    "        reader = csv.reader(visits)\n",
    "        for row in reader:\n",
    "            user_id = row[0]\n",
    "            if user_id in purchases:\n",
    "                row.append(purchases[user_id])\n",
    "                file.writerow(row)\n",
    "\n",
    "\n",
    "with open('funnel.csv', 'r', encoding='utf-8') as funnel:\n",
    "    header = funnel.readline().strip()\n",
    "    print(header)\n",
    "    \n",
    "    for i, line in enumerate(funnel):\n",
    "        if i < 2: \n",
    "            print(line.strip())\n",
    "        else:\n",
    "            break"
   ]
  }
 ],
 "metadata": {
  "kernelspec": {
   "display_name": "Python 3",
   "language": "python",
   "name": "python3"
  },
  "language_info": {
   "codemirror_mode": {
    "name": "ipython",
    "version": 3
   },
   "file_extension": ".py",
   "mimetype": "text/x-python",
   "name": "python",
   "nbconvert_exporter": "python",
   "pygments_lexer": "ipython3",
   "version": "3.9.6"
  }
 },
 "nbformat": 4,
 "nbformat_minor": 5
}

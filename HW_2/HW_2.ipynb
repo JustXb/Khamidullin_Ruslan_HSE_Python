{
 "cells": [
  {
   "cell_type": "code",
   "execution_count": 10,
   "id": "ce541403",
   "metadata": {},
   "outputs": [
    {
     "name": "stdout",
     "output_type": "stream",
     "text": [
      "2002-10-02 00:00:00\n",
      "2013-10-11 00:00:00\n",
      "1977-08-18 00:00:00\n"
     ]
    }
   ],
   "source": [
    "from datetime import datetime\n",
    "\n",
    "print(datetime.strptime(\"Wednesday, October 2, 2002\", '%A, %B %d, %Y'))\n",
    "print(datetime.strptime(\"Friday, 11.10.13\", '%A, %d.%m.%y'))\n",
    "print(datetime.strptime(\"Thursday, 18 August 1977\", '%A, %d %B %Y'))\n"
   ]
  },
  {
   "cell_type": "code",
   "execution_count": 2,
   "id": "ef038354",
   "metadata": {},
   "outputs": [],
   "source": [
    "from datetime import datetime, timedelta\n",
    "\n",
    "def date_range(start_date, end_date):\n",
    "    try:\n",
    "        start = datetime.strptime(start_date, '%Y-%m-%d')\n",
    "        end = datetime.strptime(end_date, '%Y-%m-%d')\n",
    "        \n",
    "        if start > end:\n",
    "            return []\n",
    "        \n",
    "        date_list = []\n",
    "        current_date = start\n",
    "        \n",
    "        while current_date <= end:\n",
    "            date_list.append(current_date.strftime('%Y-%m-%d'))\n",
    "            current_date += timedelta(days=1)\n",
    "            \n",
    "        return date_list\n",
    "        \n",
    "    except ValueError:\n",
    "        return []"
   ]
  },
  {
   "cell_type": "code",
   "execution_count": 4,
   "id": "1b40a2ae",
   "metadata": {},
   "outputs": [
    {
     "data": {
      "text/plain": [
       "['2022-01-01', '2022-01-02', '2022-01-03']"
      ]
     },
     "execution_count": 4,
     "metadata": {},
     "output_type": "execute_result"
    }
   ],
   "source": [
    "date_range('2022-01-01', '2022-01-03')\n"
   ]
  },
  {
   "cell_type": "code",
   "execution_count": null,
   "id": "d92fa85f",
   "metadata": {},
   "outputs": [],
   "source": []
  }
 ],
 "metadata": {
  "kernelspec": {
   "display_name": "Python 3",
   "language": "python",
   "name": "python3"
  },
  "language_info": {
   "codemirror_mode": {
    "name": "ipython",
    "version": 3
   },
   "file_extension": ".py",
   "mimetype": "text/x-python",
   "name": "python",
   "nbconvert_exporter": "python",
   "pygments_lexer": "ipython3",
   "version": "3.9.6"
  }
 },
 "nbformat": 4,
 "nbformat_minor": 5
}

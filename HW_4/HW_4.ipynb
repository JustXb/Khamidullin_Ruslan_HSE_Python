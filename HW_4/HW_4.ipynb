{
 "cells": [
  {
   "cell_type": "markdown",
   "id": "dac02de6",
   "metadata": {},
   "source": [
    "# Задание 1"
   ]
  },
  {
   "cell_type": "code",
   "execution_count": 16,
   "id": "e652c14f",
   "metadata": {},
   "outputs": [
    {
     "name": "stdout",
     "output_type": "stream",
     "text": [
      "Номер А222ВС валиден. Регион: 96.\n",
      "Номер не валиден.\n"
     ]
    }
   ],
   "source": [
    "import re\n",
    "\n",
    "def validate_car_number(car_id):\n",
    "    valid_letters = 'АВЕКМНОРСТУХ'\n",
    "    pattern = r'^([' + valid_letters + r'])(\\d{3})([' + valid_letters + r']{2})(\\d{2,3})$'\n",
    "    \n",
    "    match = re.match(pattern, car_id.upper())\n",
    "    \n",
    "    if match:\n",
    "        first_letter = match.group(1)\n",
    "        digits = match.group(2)\n",
    "        last_letters = match.group(3)\n",
    "        region = match.group(4)\n",
    "        \n",
    "        car_id = first_letter + digits + last_letters\n",
    "        \n",
    "        return f\"Номер {car_id} валиден. Регион: {region}.\"\n",
    "    else:\n",
    "        return \"Номер не валиден.\"\n",
    "    \n",
    "print(validate_car_number('А222ВС96'))\n",
    "print(validate_car_number('АБ22ВВ193'))\n"
   ]
  },
  {
   "cell_type": "markdown",
   "id": "4f4a4bc0",
   "metadata": {},
   "source": [
    "# Задание 2"
   ]
  },
  {
   "cell_type": "code",
   "execution_count": null,
   "id": "169b4667",
   "metadata": {},
   "outputs": [],
   "source": [
    "def remove_dup(text):\n",
    "    pattern = r'\\b(\\w+)\\s+\\1\\b'\n",
    "    \n",
    "    while re.search(pattern, text):\n",
    "        text = re.sub(pattern, r'\\1', text)\n",
    "    \n",
    "    return text"
   ]
  },
  {
   "cell_type": "code",
   "execution_count": null,
   "id": "d83e43e1",
   "metadata": {},
   "outputs": [
    {
     "data": {
      "text/plain": [
       "'Напишите функцию, которая будет удалять все последовательные повторы слов из заданной строки при помощи регулярных выражений'"
      ]
     },
     "execution_count": 9,
     "metadata": {},
     "output_type": "execute_result"
    }
   ],
   "source": [
    "some_string = 'Напишите функцию функцию, которая будет будет будет будет удалять все все все все последовательные повторы слов из из из из заданной строки строки при помощи регулярных выражений'\n",
    "\n",
    "remove_dup(some_string)"
   ]
  },
  {
   "cell_type": "code",
   "execution_count": null,
   "id": "b9cdf37a",
   "metadata": {},
   "outputs": [],
   "source": []
  }
 ],
 "metadata": {
  "kernelspec": {
   "display_name": "Python 3",
   "language": "python",
   "name": "python3"
  },
  "language_info": {
   "codemirror_mode": {
    "name": "ipython",
    "version": 3
   },
   "file_extension": ".py",
   "mimetype": "text/x-python",
   "name": "python",
   "nbconvert_exporter": "python",
   "pygments_lexer": "ipython3",
   "version": "3.9.6"
  }
 },
 "nbformat": 4,
 "nbformat_minor": 5
}
